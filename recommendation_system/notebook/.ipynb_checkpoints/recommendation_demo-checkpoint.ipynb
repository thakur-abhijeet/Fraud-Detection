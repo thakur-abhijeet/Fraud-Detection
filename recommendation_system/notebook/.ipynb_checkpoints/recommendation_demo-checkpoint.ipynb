{
 "cells": [
  {
   "cell_type": "code",
   "execution_count": 1,
   "id": "6a3a48dd",
   "metadata": {},
   "outputs": [],
   "source": [
    "# Import necessary libraries\n",
    "\n",
    "import pandas as pd\n",
    "import numpy as np\n",
    "import matplotlib.pyplot as plt\n",
    "import seaborn as sns\n",
    "import os\n",
    "import sys"
   ]
  },
  {
   "cell_type": "code",
   "execution_count": 2,
   "id": "216071b9",
   "metadata": {},
   "outputs": [],
   "source": [
    "# Add the parent directory to the path to import our modules\n",
    "sys.path.append('..')"
   ]
  },
  {
   "cell_type": "code",
   "execution_count": 3,
   "id": "89a11f0d",
   "metadata": {},
   "outputs": [],
   "source": [
    "# Import our recommendation system modules\n",
    "from src.data_preprocessing import DataPreprocessor\n",
    "from src.content_based_filtering import ContentBasedRecommender\n",
    "from src.collaborative_filtering import CollaborativeFilteringRecommender\n",
    "from src.sentiment_based_filtering import SentimentBasedRecommender\n",
    "from src.hybrid_recommender import HybridRecommender"
   ]
  },
  {
   "cell_type": "code",
   "execution_count": null,
   "id": "2e2fa02c",
   "metadata": {
    "lines_to_next_cell": 1
   },
   "outputs": [],
   "source": [
    "# Set up matplotlib\n",
    "sns.set_style(\"whitegrid\")\n",
    "plt.rcParams['figure.figsize'] = (12, 8)"
   ]
  },
  {
   "cell_type": "code",
   "execution_count": null,
   "id": "c7c86563",
   "metadata": {
    "lines_to_next_cell": 1
   },
   "outputs": [],
   "source": [
    "# Create sample data\n",
    "def create_sample_data():\n",
    "    # \"\"\"Create sample data for demonstration purposes.\"\"\"\n",
    "    \n",
    "    # Create sample products\n",
    "    np.random.seed(42)\n",
    "    n_products = 100\n",
    "    \n",
    "    product_ids = [f\"P{i:03d}\" for i in range(1, n_products + 1)]\n",
    "    categories = ['Electronics', 'Clothing', 'Home', 'Books', 'Sports']\n",
    "    \n",
    "    products_data = {\n",
    "        'product_id': product_ids,\n",
    "        'name': [f\"Product {i}\" for i in range(1, n_products + 1)],\n",
    "        'category': np.random.choice(categories, n_products),\n",
    "        'price': np.random.uniform(10, 200, n_products).round(2),\n",
    "        'description': [\n",
    "            f\"This is product {i} with various features and specifications. \" +\n",
    "            f\"It belongs to the {cat} category and has good quality.\"\n",
    "            for i, cat in zip(range(1, n_products + 1), np.random.choice(categories, n_products))\n",
    "        ],\n",
    "        'brand': np.random.choice(['BrandA', 'BrandB', 'BrandC', 'BrandD', 'BrandE'], n_products),\n",
    "        'in_stock': np.random.choice([True, False], n_products, p=[0.8, 0.2])\n",
    "    }\n",
    "    \n",
    "    products_df = pd.DataFrame(products_data)\n",
    "    \n",
    "    # Create sample users\n",
    "    n_users = 50\n",
    "    user_ids = [f\"U{i:03d}\" for i in range(1, n_users + 1)]\n",
    "    \n",
    "    users_data = {\n",
    "        'user_id': user_ids,\n",
    "        'name': [f\"User {i}\" for i in range(1, n_users + 1)],\n",
    "        'age': np.random.randint(18, 70, n_users),\n",
    "        'gender': np.random.choice(['M', 'F', 'Other'], n_users),\n",
    "    }\n",
    "    \n",
    "    users_df = pd.DataFrame(users_data)\n",
    "    \n",
    "    # Create sample interactions\n",
    "    n_interactions = 1000\n",
    "    \n",
    "    interactions_data = {\n",
    "        'user_id': np.random.choice(user_ids, n_interactions),\n",
    "        'product_id': np.random.choice(product_ids, n_interactions),\n",
    "        'rating': np.random.randint(1, 6, n_interactions),\n",
    "        'timestamp': pd.date_range(start='2023-01-01', periods=n_interactions, freq='H')\n",
    "    }\n",
    "    \n",
    "    interactions_df = pd.DataFrame(interactions_data)\n",
    "    \n",
    "    # Create sample reviews\n",
    "    n_reviews = 500\n",
    "    \n",
    "    positive_sentiments = [\n",
    "        \"I love this product! It's amazing.\",\n",
    "        \"Great quality and value for money.\",\n",
    "        \"Exactly what I was looking for.\",\n",
    "        \"Exceeded my expectations.\",\n",
    "        \"Would definitely recommend to others.\",\n",
    "        \"Great Work.\"\n",
    "    ]\n",
    "    \n",
    "    negative_sentiments = [\n",
    "        \"Not worth the price.\",\n",
    "        \"Disappointed with the quality.\",\n",
    "        \"Broke after a few uses.\",\n",
    "        \"Doesn't match the description.\",\n",
    "        \"Would not recommend.\"\n",
    "    ]\n",
    "    \n",
    "    neutral_sentiments = [\n",
    "        \"It's okay, nothing special.\",\n",
    "        \"Does the job but could be better.\",\n",
    "        \"Average product for the price.\",\n",
    "        \"Not bad, not great either.\",\n",
    "        \"Meets basic expectations.\"\n",
    "    ]\n",
    "    \n",
    "    reviews_data = {\n",
    "        'review_id': [f\"R{i:03d}\" for i in range(1, n_reviews + 1)],\n",
    "        'user_id': np.random.choice(user_ids, n_reviews),\n",
    "        'product_id': np.random.choice(product_ids, n_reviews),\n",
    "        'rating': np.random.randint(1, 6, n_reviews),\n",
    "        'timestamp': pd.date_range(start='2023-01-01', periods=n_reviews, freq='D')\n",
    "    }\n",
    "    \n",
    "    # Generate review text based on rating\n",
    "    review_texts = []\n",
    "    for rating in reviews_data['rating']:\n",
    "        if rating >= 4:\n",
    "            review_texts.append(np.random.choice(positive_sentiments))\n",
    "        elif rating <= 2:\n",
    "            review_texts.append(np.random.choice(negative_sentiments))\n",
    "        else:\n",
    "            review_texts.append(np.random.choice(neutral_sentiments))\n",
    "    \n",
    "    reviews_data['review_text'] = review_texts\n",
    "    \n",
    "    reviews_df = pd.DataFrame(reviews_data)\n",
    "    \n",
    "    # Save the data to CSV files\n",
    "    os.makedirs('../data', exist_ok=True)\n",
    "    \n",
    "    products_df.to_csv('../data/sample_products.csv', index=False)\n",
    "    users_df.to_csv('../data/sample_users.csv', index=False)\n",
    "    interactions_df.to_csv('../data/sample_interactions.csv', index=False)\n",
    "    reviews_df.to_csv('../data/sample_reviews.csv', index=False)\n",
    "    \n",
    "    return products_df, users_df, interactions_df, reviews_df"
   ]
  },
  {
   "cell_type": "code",
   "execution_count": null,
   "id": "ae4a2568",
   "metadata": {},
   "outputs": [
    {
     "name": "stderr",
     "output_type": "stream",
     "text": [
      "/tmp/ipykernel_24918/539214317.py:48: FutureWarning: 'H' is deprecated and will be removed in a future version, please use 'h' instead.\n",
      "  'timestamp': pd.date_range(start='2023-01-01', periods=n_interactions, freq='H')\n"
     ]
    }
   ],
   "source": [
    "# Create and load sample data\n",
    "products_df, users_df, interactions_df, reviews_df = create_sample_data()"
   ]
  },
  {
   "cell_type": "code",
   "execution_count": null,
   "id": "bcd0221c",
   "metadata": {},
   "outputs": [
    {
     "name": "stdout",
     "output_type": "stream",
     "text": [
      "Sample data created and saved to the data directory.\n",
      "Number of products: 100\n",
      "Number of users: 50\n",
      "Number of interactions: 1000\n",
      "Number of reviews: 500\n"
     ]
    }
   ],
   "source": [
    "print(\"Sample data created and saved to the data directory.\")\n",
    "print(f\"Number of products: {len(products_df)}\")\n",
    "print(f\"Number of users: {len(users_df)}\")\n",
    "print(f\"Number of interactions: {len(interactions_df)}\")\n",
    "print(f\"Number of reviews: {len(reviews_df)}\")"
   ]
  },
  {
   "cell_type": "code",
   "execution_count": null,
   "id": "c3df6fbd",
   "metadata": {},
   "outputs": [
    {
     "name": "stdout",
     "output_type": "stream",
     "text": [
      "\n",
      "Sample products:\n",
      "  product_id       name category   price  \\\n",
      "0       P001  Product 1    Books  183.84   \n",
      "1       P002  Product 2   Sports  171.51   \n",
      "2       P003  Product 3     Home   95.40   \n",
      "3       P004  Product 4   Sports   28.13   \n",
      "4       P005  Product 5   Sports   80.46   \n",
      "\n",
      "                                         description   brand  in_stock  \n",
      "0  This is product 1 with various features and sp...  BrandB      True  \n",
      "1  This is product 2 with various features and sp...  BrandA      True  \n",
      "2  This is product 3 with various features and sp...  BrandA      True  \n",
      "3  This is product 4 with various features and sp...  BrandA     False  \n",
      "4  This is product 5 with various features and sp...  BrandC      True  \n"
     ]
    }
   ],
   "source": [
    "# Display sample data\n",
    "print(\"\\nSample products:\")\n",
    "print(products_df.head())"
   ]
  },
  {
   "cell_type": "code",
   "execution_count": null,
   "id": "98c741b6",
   "metadata": {},
   "outputs": [
    {
     "name": "stdout",
     "output_type": "stream",
     "text": [
      "\n",
      "Sample users:\n",
      "  user_id    name  age gender\n",
      "0    U001  User 1   23      M\n",
      "1    U002  User 2   48      M\n",
      "2    U003  User 3   36      F\n",
      "3    U004  User 4   61      F\n",
      "4    U005  User 5   56  Other\n"
     ]
    }
   ],
   "source": [
    "print(\"\\nSample users:\")\n",
    "print(users_df.head())"
   ]
  },
  {
   "cell_type": "code",
   "execution_count": null,
   "id": "3f8fab8c",
   "metadata": {},
   "outputs": [
    {
     "name": "stdout",
     "output_type": "stream",
     "text": [
      "\n",
      "Sample interactions:\n",
      "  user_id product_id  rating           timestamp\n",
      "0    U011       P053       5 2023-01-01 00:00:00\n",
      "1    U021       P030       4 2023-01-01 01:00:00\n",
      "2    U026       P039       1 2023-01-01 02:00:00\n",
      "3    U025       P031       5 2023-01-01 03:00:00\n",
      "4    U022       P082       5 2023-01-01 04:00:00\n"
     ]
    }
   ],
   "source": [
    "print(\"\\nSample interactions:\")\n",
    "print(interactions_df.head())"
   ]
  },
  {
   "cell_type": "code",
   "execution_count": null,
   "id": "aec25c57",
   "metadata": {},
   "outputs": [
    {
     "name": "stdout",
     "output_type": "stream",
     "text": [
      "\n",
      "Sample reviews:\n",
      "  review_id user_id product_id  rating  timestamp  \\\n",
      "0      R001    U024       P053       5 2023-01-01   \n",
      "1      R002    U015       P023       4 2023-01-02   \n",
      "2      R003    U022       P069       2 2023-01-03   \n",
      "3      R004    U030       P095       1 2023-01-04   \n",
      "4      R005    U004       P053       1 2023-01-05   \n",
      "\n",
      "                          review_text  \n",
      "0                         Great Work.  \n",
      "1  Great quality and value for money.  \n",
      "2                Not worth the price.  \n",
      "3                Would not recommend.  \n",
      "4      Disappointed with the quality.  \n"
     ]
    }
   ],
   "source": [
    "print(\"\\nSample reviews:\")\n",
    "print(reviews_df.head())"
   ]
  },
  {
   "cell_type": "code",
   "execution_count": null,
   "id": "eadb5930",
   "metadata": {},
   "outputs": [
    {
     "name": "stdout",
     "output_type": "stream",
     "text": [
      "\n",
      "--- Data Preprocessing ---\n"
     ]
    },
    {
     "name": "stderr",
     "output_type": "stream",
     "text": [
      "/home/masubhaat/ML/recommendation_system/notebook/../src/data_preprocessing.py:136: FutureWarning: A value is trying to be set on a copy of a DataFrame or Series through chained assignment using an inplace method.\n",
      "The behavior will change in pandas 3.0. This inplace method will never work because the intermediate object on which we are setting values always behaves as a copy.\n",
      "\n",
      "For example, when doing 'df[col].method(value, inplace=True)', try using 'df.method({col: value}, inplace=True)' or df[col] = df[col].method(value) instead, to perform the operation inplace on the original object.\n",
      "\n",
      "\n",
      "  self.products_df[col].fillna(self.products_df[col].mean(), inplace=True)\n",
      "/home/masubhaat/ML/recommendation_system/notebook/../src/data_preprocessing.py:141: FutureWarning: A value is trying to be set on a copy of a DataFrame or Series through chained assignment using an inplace method.\n",
      "The behavior will change in pandas 3.0. This inplace method will never work because the intermediate object on which we are setting values always behaves as a copy.\n",
      "\n",
      "For example, when doing 'df[col].method(value, inplace=True)', try using 'df.method({col: value}, inplace=True)' or df[col] = df[col].method(value) instead, to perform the operation inplace on the original object.\n",
      "\n",
      "\n",
      "  self.products_df[col].fillna('Unknown', inplace=True)\n",
      "/home/masubhaat/ML/recommendation_system/notebook/../src/data_preprocessing.py:154: FutureWarning: A value is trying to be set on a copy of a DataFrame or Series through chained assignment using an inplace method.\n",
      "The behavior will change in pandas 3.0. This inplace method will never work because the intermediate object on which we are setting values always behaves as a copy.\n",
      "\n",
      "For example, when doing 'df[col].method(value, inplace=True)', try using 'df.method({col: value}, inplace=True)' or df[col] = df[col].method(value) instead, to perform the operation inplace on the original object.\n",
      "\n",
      "\n",
      "  self.users_df[col].fillna('Unknown', inplace=True)\n",
      "/home/masubhaat/ML/recommendation_system/notebook/../src/data_preprocessing.py:166: FutureWarning: A value is trying to be set on a copy of a DataFrame or Series through chained assignment using an inplace method.\n",
      "The behavior will change in pandas 3.0. This inplace method will never work because the intermediate object on which we are setting values always behaves as a copy.\n",
      "\n",
      "For example, when doing 'df[col].method(value, inplace=True)', try using 'df.method({col: value}, inplace=True)' or df[col] = df[col].method(value) instead, to perform the operation inplace on the original object.\n",
      "\n",
      "\n",
      "  self.interactions_df['rating'].fillna(self.interactions_df['rating'].median(), inplace=True)\n",
      "/home/masubhaat/ML/recommendation_system/notebook/../src/data_preprocessing.py:178: FutureWarning: A value is trying to be set on a copy of a DataFrame or Series through chained assignment using an inplace method.\n",
      "The behavior will change in pandas 3.0. This inplace method will never work because the intermediate object on which we are setting values always behaves as a copy.\n",
      "\n",
      "For example, when doing 'df[col].method(value, inplace=True)', try using 'df.method({col: value}, inplace=True)' or df[col] = df[col].method(value) instead, to perform the operation inplace on the original object.\n",
      "\n",
      "\n",
      "  self.reviews_df['review_text'].fillna('', inplace=True)\n",
      "/home/masubhaat/ML/recommendation_system/notebook/../src/data_preprocessing.py:182: FutureWarning: A value is trying to be set on a copy of a DataFrame or Series through chained assignment using an inplace method.\n",
      "The behavior will change in pandas 3.0. This inplace method will never work because the intermediate object on which we are setting values always behaves as a copy.\n",
      "\n",
      "For example, when doing 'df[col].method(value, inplace=True)', try using 'df.method({col: value}, inplace=True)' or df[col] = df[col].method(value) instead, to perform the operation inplace on the original object.\n",
      "\n",
      "\n",
      "  self.reviews_df['rating'].fillna(self.reviews_df['rating'].median(), inplace=True)\n"
     ]
    },
    {
     "data": {
      "text/plain": [
       "<src.data_preprocessing.DataPreprocessor at 0x7327edcfbc80>"
      ]
     },
     "execution_count": 12,
     "metadata": {},
     "output_type": "execute_result"
    }
   ],
   "source": [
    "# Data Preprocessing\n",
    "print(\"\\n--- Data Preprocessing ---\")\n",
    "preprocessor = DataPreprocessor(data_dir='../data')\n",
    "preprocessor.load_data(\n",
    "    products_file='sample_products.csv',\n",
    "    users_file='sample_users.csv',\n",
    "    interactions_file='sample_interactions.csv',\n",
    "    reviews_file='sample_reviews.csv'\n",
    ")\n",
    "preprocessor.clean_data()"
   ]
  },
  {
   "cell_type": "code",
   "execution_count": null,
   "id": "5a19a6c0",
   "metadata": {},
   "outputs": [
    {
     "name": "stdout",
     "output_type": "stream",
     "text": [
      "\n",
      "Extracting content features...\n",
      "Content features shape: (100, 32)\n"
     ]
    }
   ],
   "source": [
    "# Extract content features\n",
    "print(\"\\nExtracting content features...\")\n",
    "content_features = preprocessor.extract_content_features(\n",
    "    text_columns=['description'],\n",
    "    categorical_columns=['category', 'brand'],\n",
    "    numerical_columns=['price']\n",
    ")\n",
    "print(f\"Content features shape: {content_features.shape}\")"
   ]
  },
  {
   "cell_type": "code",
   "execution_count": null,
   "id": "290e71a7",
   "metadata": {},
   "outputs": [
    {
     "name": "stdout",
     "output_type": "stream",
     "text": [
      "\n",
      "Preparing collaborative data...\n",
      "Collaborative data shape: (909, 6)\n"
     ]
    }
   ],
   "source": [
    "# Prepare collaborative data\n",
    "print(\"\\nPreparing collaborative data...\")\n",
    "collaborative_data = preprocessor.prepare_collaborative_data(min_interactions=2)\n",
    "print(f\"Collaborative data shape: {collaborative_data.shape}\")"
   ]
  },
  {
   "cell_type": "code",
   "execution_count": null,
   "id": "f8dbd35c",
   "metadata": {},
   "outputs": [
    {
     "name": "stdout",
     "output_type": "stream",
     "text": [
      "\n",
      "Preparing sentiment data...\n",
      "Sentiment data shape: (500, 7)\n"
     ]
    }
   ],
   "source": [
    "# Prepare sentiment data\n",
    "print(\"\\nPreparing sentiment data...\")\n",
    "sentiment_data = preprocessor.prepare_sentiment_data()\n",
    "print(f\"Sentiment data shape: {sentiment_data.shape}\")"
   ]
  },
  {
   "cell_type": "code",
   "execution_count": null,
   "id": "5b870b95-ed73-49da-839c-df9e15c53fec",
   "metadata": {},
   "outputs": [],
   "source": [
    "# These should be ONLY your engineered/processed numeric features\n",
    "columns_to_use = [\n",
    "    'price_scaled',\n",
    "    'description_tfidf_0', 'description_tfidf_1', 'description_tfidf_2',\n",
    "    'description_tfidf_3', 'description_tfidf_4', 'description_tfidf_5',\n",
    "    'description_tfidf_6', 'description_tfidf_7', 'description_tfidf_8',\n",
    "    'description_tfidf_9', 'description_tfidf_10', 'description_tfidf_11',\n",
    "    'description_tfidf_12',\n",
    "    'category_Books', 'category_Clothing', 'category_Sports',\n",
    "    'category_Electronics', 'category_Home',\n",
    "    'brand_BrandB', 'brand_BrandE', 'brand_BrandD', 'brand_BrandA', 'brand_BrandC',\n",
    "    'in_stock'\n",
    "]"
   ]
  },
  {
   "cell_type": "code",
   "execution_count": null,
   "id": "c57a78b7",
   "metadata": {
    "scrolled": true
   },
   "outputs": [
    {
     "name": "stdout",
     "output_type": "stream",
     "text": [
      "\n",
      "--- Content-Based Filtering ---\n"
     ]
    },
    {
     "data": {
      "text/plain": [
       "<src.content_based_filtering.ContentBasedRecommender at 0x7327e84f8d70>"
      ]
     },
     "execution_count": 20,
     "metadata": {},
     "output_type": "execute_result"
    }
   ],
   "source": [
    "# Content-Based Filtering\n",
    "print(\"\\n--- Content-Based Filtering ---\")\n",
    "content_recommender = ContentBasedRecommender()\n",
    "content_recommender.fit(content_features, feature_columns=columns_to_use,id_column='product_id')"
   ]
  },
  {
   "cell_type": "code",
   "execution_count": null,
   "id": "5f6adc5f",
   "metadata": {},
   "outputs": [
    {
     "name": "stdout",
     "output_type": "stream",
     "text": [
      "\n",
      "Similar products to P001 (Product 1):\n",
      "- P023 (Product 23): 0.9808\n",
      "- P057 (Product 57): 0.9490\n",
      "- P033 (Product 33): 0.9130\n",
      "- P030 (Product 30): 0.9106\n",
      "- P066 (Product 66): 0.9060\n"
     ]
    }
   ],
   "source": [
    "# Get similar products example\n",
    "product_id = products_df['product_id'].iloc[0]\n",
    "print(f\"\\nSimilar products to {product_id} ({products_df[products_df['product_id'] == product_id]['name'].values[0]}):\")\n",
    "similar_products = content_recommender.get_similar_products(product_id, n=5)\n",
    "for pid, score in similar_products:\n",
    "    product_name = products_df[products_df['product_id'] == pid]['name'].values[0]\n",
    "    print(f\"- {pid} ({product_name}): {score:.4f}\")"
   ]
  },
  {
   "cell_type": "code",
   "execution_count": null,
   "id": "2986c0ee",
   "metadata": {},
   "outputs": [
    {
     "name": "stdout",
     "output_type": "stream",
     "text": [
      "\n",
      "--- Collaborative Filtering ---\n"
     ]
    },
    {
     "data": {
      "text/plain": [
       "<src.collaborative_filtering.CollaborativeFilteringRecommender at 0x7327e84f8a10>"
      ]
     },
     "execution_count": 22,
     "metadata": {},
     "output_type": "execute_result"
    }
   ],
   "source": [
    "# Collaborative Filtering\n",
    "print(\"\\n--- Collaborative Filtering ---\")\n",
    "collaborative_recommender = CollaborativeFilteringRecommender()\n",
    "collaborative_recommender.fit(interactions_df, method='item_based')"
   ]
  },
  {
   "cell_type": "code",
   "execution_count": null,
   "id": "7608bf70",
   "metadata": {},
   "outputs": [
    {
     "name": "stdout",
     "output_type": "stream",
     "text": [
      "\n",
      "Recommendations for user U001:\n",
      "- P077 (Product 77): 3.3141\n",
      "- P043 (Product 43): 3.2734\n",
      "- P083 (Product 83): 3.2411\n",
      "- P096 (Product 96): 3.1945\n",
      "- P016 (Product 16): 3.1372\n"
     ]
    }
   ],
   "source": [
    "# Get recommendations for a user\n",
    "user_id = users_df['user_id'].iloc[0]\n",
    "print(f\"\\nRecommendations for user {user_id}:\")\n",
    "cf_recommendations = collaborative_recommender.recommend_for_user(user_id, n=5)\n",
    "for pid, score in cf_recommendations:\n",
    "    product_name = products_df[products_df['product_id'] == pid]['name'].values[0]\n",
    "    print(f\"- {pid} ({product_name}): {score:.4f}\")"
   ]
  },
  {
   "cell_type": "code",
   "execution_count": null,
   "id": "1fa46299",
   "metadata": {},
   "outputs": [
    {
     "name": "stdout",
     "output_type": "stream",
     "text": [
      "\n",
      "--- Sentiment-Based Filtering ---\n"
     ]
    },
    {
     "data": {
      "text/plain": [
       "<src.sentiment_based_filtering.SentimentBasedRecommender at 0x7327e84f99a0>"
      ]
     },
     "execution_count": 24,
     "metadata": {},
     "output_type": "execute_result"
    }
   ],
   "source": [
    "# Sentiment-Based Filtering\n",
    "print(\"\\n--- Sentiment-Based Filtering ---\")\n",
    "sentiment_recommender = SentimentBasedRecommender()\n",
    "sentiment_recommender.fit_vader_sentiment(reviews_df)"
   ]
  },
  {
   "cell_type": "code",
   "execution_count": null,
   "id": "ec54bc59",
   "metadata": {},
   "outputs": [
    {
     "name": "stdout",
     "output_type": "stream",
     "text": [
      "\n",
      "Top products by sentiment:\n",
      "- P008 (Product 8): 0.7386\n",
      "- P037 (Product 37): 0.6478\n",
      "- P031 (Product 31): 0.6249\n",
      "- P019 (Product 19): 0.5892\n",
      "- P001 (Product 1): 0.5656\n"
     ]
    }
   ],
   "source": [
    "# Get top products by sentiment\n",
    "print(\"\\nTop products by sentiment:\")\n",
    "sentiment_recommendations = sentiment_recommender.recommend_products(n=5, min_reviews=1)\n",
    "for pid, score in sentiment_recommendations:\n",
    "    product_name = products_df[products_df['product_id'] == pid]['name'].values[0]\n",
    "    print(f\"- {pid} ({product_name}): {score:.4f}\")"
   ]
  },
  {
   "cell_type": "code",
   "execution_count": null,
   "id": "9465590f",
   "metadata": {},
   "outputs": [
    {
     "name": "stdout",
     "output_type": "stream",
     "text": [
      "\n",
      "--- Hybrid Recommender ---\n"
     ]
    },
    {
     "data": {
      "text/plain": [
       "<src.hybrid_recommender.HybridRecommender at 0x7327e6cad1c0>"
      ]
     },
     "execution_count": 26,
     "metadata": {},
     "output_type": "execute_result"
    }
   ],
   "source": [
    "# Hybrid Recommender\n",
    "print(\"\\n--- Hybrid Recommender ---\")\n",
    "hybrid_recommender = HybridRecommender()\n",
    "hybrid_recommender.fit(\n",
    "    products_df=products_df,\n",
    "    interactions_df=interactions_df,\n",
    "    reviews_df=reviews_df,\n",
    "    collaborative_method='item_based',\n",
    "    use_sentiment=True\n",
    ")"
   ]
  },
  {
   "cell_type": "code",
   "execution_count": null,
   "id": "c254cd6b",
   "metadata": {},
   "outputs": [
    {
     "data": {
      "text/plain": [
       "<src.hybrid_recommender.HybridRecommender at 0x7327e6cad1c0>"
      ]
     },
     "execution_count": 27,
     "metadata": {},
     "output_type": "execute_result"
    }
   ],
   "source": [
    "# Set custom weights\n",
    "hybrid_recommender.set_weights(content_weight=0.3, collaborative_weight=0.5, sentiment_weight=0.2)"
   ]
  },
  {
   "cell_type": "code",
   "execution_count": null,
   "id": "69356c6d",
   "metadata": {},
   "outputs": [
    {
     "name": "stdout",
     "output_type": "stream",
     "text": [
      "\n",
      "Hybrid recommendations for user U001:\n",
      "- P043 (Product 43): 1.7493\n",
      "- P077 (Product 77): 1.7328\n",
      "- P083 (Product 83): 1.6213\n",
      "- P096 (Product 96): 1.6078\n",
      "- P018 (Product 18): 1.5501\n"
     ]
    }
   ],
   "source": [
    "# Get hybrid recommendations for a user\n",
    "print(f\"\\nHybrid recommendations for user {user_id}:\")\n",
    "hybrid_recommendations = hybrid_recommender.recommend_for_user(user_id, n=5)\n",
    "for pid, score in hybrid_recommendations:\n",
    "    product_name = products_df[products_df['product_id'] == pid]['name'].values[0]\n",
    "    print(f\"- {pid} ({product_name}): {score:.4f}\")"
   ]
  },
  {
   "cell_type": "code",
   "execution_count": null,
   "id": "4d993cf9",
   "metadata": {},
   "outputs": [
    {
     "name": "stdout",
     "output_type": "stream",
     "text": [
      "\n",
      "--- Evaluation ---\n"
     ]
    }
   ],
   "source": [
    "# Evaluate the recommenders\n",
    "print(\"\\n--- Evaluation ---\")\n",
    "# Split interactions into train and test\n",
    "train_interactions, test_interactions = preprocessor.split_data(interactions_df)"
   ]
  },
  {
   "cell_type": "code",
   "execution_count": null,
   "id": "66940c67-4d06-4978-a54f-f5209bdebe3a",
   "metadata": {},
   "outputs": [
    {
     "name": "stdout",
     "output_type": "stream",
     "text": [
      "Similarity matrix type: <class 'numpy.ndarray'>\n",
      "Similarity matrix shape: (100, 100)\n"
     ]
    }
   ],
   "source": [
    "# After calling fit()\n",
    "print(\"Similarity matrix type:\", type(content_recommender.similarity_matrix))\n",
    "print(\"Similarity matrix shape:\", content_recommender.similarity_matrix.shape)"
   ]
  },
  {
   "cell_type": "code",
   "execution_count": null,
   "id": "55b8c813",
   "metadata": {},
   "outputs": [
    {
     "name": "stdout",
     "output_type": "stream",
     "text": [
      "\n",
      "Content-based recommender metrics:\n",
      "- precision@k: 0.0174\n",
      "- recall@k: 0.1304\n",
      "- f1_score: 0.0307\n",
      "- k: 10.0000\n"
     ]
    }
   ],
   "source": [
    "# Evaluate content-based recommender\n",
    "content_metrics = content_recommender.evaluate(test_interactions)\n",
    "print(\"\\nContent-based recommender metrics:\")\n",
    "for metric, value in content_metrics.items():\n",
    "    print(f\"- {metric}: {value:.4f}\")"
   ]
  },
  {
   "cell_type": "code",
   "execution_count": null,
   "id": "445b82dd",
   "metadata": {},
   "outputs": [
    {
     "name": "stdout",
     "output_type": "stream",
     "text": [
      "\n",
      "Collaborative recommender metrics:\n",
      "- precision@k: 0.0000\n",
      "- recall@k: 0.0000\n",
      "- ndcg@k: 0.0000\n",
      "- f1_score: 0.0000\n",
      "- k: 10.0000\n"
     ]
    }
   ],
   "source": [
    "# Evaluate collaborative recommender\n",
    "collaborative_metrics = collaborative_recommender.evaluate(test_interactions)\n",
    "print(\"\\nCollaborative recommender metrics:\")\n",
    "for metric, value in collaborative_metrics.items():\n",
    "    print(f\"- {metric}: {value:.4f}\")"
   ]
  },
  {
   "cell_type": "code",
   "execution_count": null,
   "id": "392cf364",
   "metadata": {},
   "outputs": [
    {
     "name": "stdout",
     "output_type": "stream",
     "text": [
      "\n",
      "Sentiment recommender metrics:\n",
      "- correlation: 0.6991\n",
      "- accuracy: 0.7760\n",
      "- precision: 0.7719\n",
      "- recall: 0.6439\n",
      "- f1_score: 0.7021\n"
     ]
    }
   ],
   "source": [
    "# Evaluate sentiment recommender\n",
    "sentiment_metrics = sentiment_recommender.evaluate(reviews_df)\n",
    "print(\"\\nSentiment recommender metrics:\")\n",
    "for metric, value in sentiment_metrics.items():\n",
    "    print(f\"- {metric}: {value:.4f}\")"
   ]
  },
  {
   "cell_type": "code",
   "execution_count": null,
   "id": "1fede318",
   "metadata": {},
   "outputs": [
    {
     "name": "stdout",
     "output_type": "stream",
     "text": [
      "\n",
      "Hybrid recommender metrics:\n",
      "- precision@k: 0.0000\n",
      "- recall@k: 0.0000\n",
      "- ndcg@k: 0.0000\n",
      "- f1_score: 0.0000\n",
      "- k: 10.0000\n"
     ]
    }
   ],
   "source": [
    "# Evaluate hybrid recommender\n",
    "hybrid_metrics = hybrid_recommender.evaluate(test_interactions)\n",
    "print(\"\\nHybrid recommender metrics:\")\n",
    "for metric, value in hybrid_metrics.items():\n",
    "    print(f\"- {metric}: {value:.4f}\")"
   ]
  },
  {
   "cell_type": "code",
   "execution_count": null,
   "id": "4cb3d68d",
   "metadata": {},
   "outputs": [
    {
     "name": "stdout",
     "output_type": "stream",
     "text": [
      "\n",
      "--- Visualization ---\n"
     ]
    }
   ],
   "source": [
    "# Visualize results\n",
    "print(\"\\n--- Visualization ---\")\n",
    "# Compare recommender performance\n",
    "metrics = ['precision@k', 'recall@k', 'f1_score']\n",
    "recommenders = ['Content-based', 'Collaborative', 'Hybrid']"
   ]
  },
  {
   "cell_type": "code",
   "execution_count": null,
   "id": "6b93d5da",
   "metadata": {},
   "outputs": [],
   "source": [
    "performance_data = {\n",
    "    'Content-based': [content_metrics.get(m, 0) for m in metrics],\n",
    "    'Collaborative': [collaborative_metrics.get(m, 0) for m in metrics],\n",
    "    'Hybrid': [hybrid_metrics.get(m, 0) for m in metrics]\n",
    "}"
   ]
  },
  {
   "cell_type": "code",
   "execution_count": null,
   "id": "b99d1849",
   "metadata": {},
   "outputs": [
    {
     "data": {
      "text/plain": [
       "<Figure size 1000x600 with 0 Axes>"
      ]
     },
     "metadata": {},
     "output_type": "display_data"
    }
   ],
   "source": [
    "plt.figure(figsize=(10, 6))\n",
    "x = np.arange(len(metrics))\n",
    "width = 0.25"
   ]
  },
  {
   "cell_type": "code",
   "execution_count": null,
   "id": "3fb6c89b",
   "metadata": {},
   "outputs": [
    {
     "data": {
      "image/png": "[encoded data removed]",
      "text/plain": [
       "<Figure size 1200x800 with 1 Axes>"
      ]
     },
     "metadata": {},
     "output_type": "display_data"
    }
   ],
   "source": [
    "for i, (recommender, values) in enumerate(performance_data.items()):\n",
    "    plt.bar(x + i*width, values, width, label=recommender)"
   ]
  },
  {
   "cell_type": "code",
   "execution_count": null,
   "id": "a544e88f",
   "metadata": {},
   "outputs": [
    {
     "name": "stderr",
     "output_type": "stream",
     "text": [
      "/tmp/ipykernel_24918/3762892982.py:5: UserWarning: No artists with labels found to put in legend.  Note that artists whose label start with an underscore are ignored when legend() is called with no argument.\n",
      "  plt.legend()\n"
     ]
    }
   ],
   "source": [
    "plt.xlabel('Metrics')\n",
    "plt.ylabel('Score')\n",
    "plt.title('Recommender Performance Comparison')\n",
    "plt.xticks(x + width, metrics)\n",
    "plt.legend()\n",
    "plt.tight_layout()\n",
    "plt.savefig('../notebook/recommender_performance.png')\n",
    "plt.close()"
   ]
  },
  {
   "cell_type": "code",
   "execution_count": null,
   "id": "0c9c0b2e",
   "metadata": {},
   "outputs": [
    {
     "name": "stdout",
     "output_type": "stream",
     "text": [
      "Performance comparison chart saved to notebook/recommender_performance.png\n"
     ]
    }
   ],
   "source": [
    "print(\"Performance comparison chart saved to notebook/recommender_performance.png\")"
   ]
  },
  {
   "cell_type": "code",
   "execution_count": null,
   "id": "641fe057",
   "metadata": {},
   "outputs": [
    {
     "name": "stdout",
     "output_type": "stream",
     "text": [
      "\n",
      "--- Saving Models ---\n"
     ]
    }
   ],
   "source": [
    "# Save the models\n",
    "print(\"\\n--- Saving Models ---\")\n",
    "content_recommender.save_model()\n",
    "collaborative_recommender.save_model()\n",
    "sentiment_recommender.save_model()\n",
    "hybrid_recommender.save_model()"
   ]
  },
  {
   "cell_type": "code",
   "execution_count": null,
   "id": "b81c30e0",
   "metadata": {},
   "outputs": [
    {
     "name": "stdout",
     "output_type": "stream",
     "text": [
      "All models saved to the model directory.\n"
     ]
    }
   ],
   "source": [
    "print(\"All models saved to the model directory.\")"
   ]
  },
  {
   "cell_type": "code",
   "execution_count": null,
   "id": "423fe415",
   "metadata": {},
   "outputs": [
    {
     "name": "stdout",
     "output_type": "stream",
     "text": [
      "\n",
      "Recommendation system demonstration complete!\n"
     ]
    }
   ],
   "source": [
    "print(\"\\nRecommendation system demonstration complete!\")"
   ]
  },
  {
   "cell_type": "code",
   "execution_count": null,
   "id": "d3c504d8-2db3-4cbf-9298-416d95ddc0fa",
   "metadata": {},
   "outputs": [],
   "source": []
  },
  {
   "cell_type": "code",
   "execution_count": null,
   "id": "7ce07169-8732-4fb8-b4e5-46acf6a07876",
   "metadata": {},
   "outputs": [],
   "source": []
  }
 ],
 "metadata": {
  "jupytext": {
   "cell_metadata_filter": "-all",
   "main_language": "python",
   "notebook_metadata_filter": "-all"
  },
  "kernelspec": {
   "display_name": "Python [conda env:base] *",
   "language": "python",
   "name": "conda-base-py"
  },
  "language_info": {
   "codemirror_mode": {
    "name": "ipython",
    "version": 3
   },
   "file_extension": ".py",
   "mimetype": "text/x-python",
   "name": "python",
   "nbconvert_exporter": "python",
   "pygments_lexer": "ipython3",
   "version": "3.12.9"
  }
 },
 "nbformat": 4,
 "nbformat_minor": 5
}
